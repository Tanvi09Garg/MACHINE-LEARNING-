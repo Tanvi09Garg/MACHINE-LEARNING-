{
  "nbformat": 4,
  "nbformat_minor": 0,
  "metadata": {
    "colab": {
      "name": "Entropy.ipynb",
      "provenance": [],
      "collapsed_sections": []
    },
    "kernelspec": {
      "name": "python3",
      "display_name": "Python 3"
    }
  },
  "cells": [
    {
      "cell_type": "code",
      "metadata": {
        "colab": {
          "base_uri": "https://localhost:8080/"
        },
        "id": "0dgtwERefxft",
        "outputId": "d8e58ff6-0b2c-44d0-f8e4-641bea73d95e"
      },
      "source": [
        "import pandas as pd\n",
        "import numpy as np\n",
        "\n",
        "#creating a data frame and storing data in it\n",
        "df = pd.read_csv(\"leukemia.tab\", delimiter = '\\t')\n",
        "\n",
        "#dropping rows with NA value\n",
        "df = df.drop([0,1,74])\n",
        "print(df)\n",
        "\n",
        "#replacing target variables' names with '0' and '1'\n",
        "df.replace('ALL', 0, inplace=True)\n",
        "df.replace('AML', 1, inplace=True)\n",
        "print(df)"
      ],
      "execution_count": 2,
      "outputs": [
        {
          "output_type": "stream",
          "text": [
            "   gene AFFX-BioC-5_at hum_alu_at  ... L49218_f_at M71243_f_at Z78285_f_at\n",
            "2   ALL             88      15091  ...          36         191         -37\n",
            "3   ALL            283      11038  ...          11          76         -14\n",
            "4   ALL            309      16692  ...          41         228         -41\n",
            "5   ALL             12      15763  ...         -50         126         -91\n",
            "6   ALL            168      18128  ...          14          56         -25\n",
            "..  ...            ...        ...  ...         ...         ...         ...\n",
            "69  AML            141      22818  ...         -22         260           5\n",
            "70  AML             95      39323  ...           0        1777         -49\n",
            "71  AML            146      15689  ...          -2         210          16\n",
            "72  AML            431      41570  ...           0         284         -73\n",
            "73  AML              9      39538  ...          20         379         -60\n",
            "\n",
            "[72 rows x 5148 columns]\n",
            "    gene AFFX-BioC-5_at hum_alu_at  ... L49218_f_at M71243_f_at Z78285_f_at\n",
            "2      0             88      15091  ...          36         191         -37\n",
            "3      0            283      11038  ...          11          76         -14\n",
            "4      0            309      16692  ...          41         228         -41\n",
            "5      0             12      15763  ...         -50         126         -91\n",
            "6      0            168      18128  ...          14          56         -25\n",
            "..   ...            ...        ...  ...         ...         ...         ...\n",
            "69     1            141      22818  ...         -22         260           5\n",
            "70     1             95      39323  ...           0        1777         -49\n",
            "71     1            146      15689  ...          -2         210          16\n",
            "72     1            431      41570  ...           0         284         -73\n",
            "73     1              9      39538  ...          20         379         -60\n",
            "\n",
            "[72 rows x 5148 columns]\n"
          ],
          "name": "stdout"
        }
      ]
    },
    {
      "cell_type": "code",
      "metadata": {
        "id": "2QSbvPzhgAkx"
      },
      "source": [
        "import math \n",
        "entropy_child_list_index = []\n",
        "entropy_child_list = []\n",
        "\n",
        "#iterating for all the columns in data frame\n",
        "for col in df.columns:\n",
        "\n",
        "  #sorting values of all the columns respective of the one column and storing that data in new data frame df1\n",
        "  df1 = df.sort_values(by = [col])\n",
        "\n",
        "  #storing values of column 'gene' in a target list in the order of that one sorted column\n",
        "  target = df1[['gene']].values\n",
        "  target = list(target)\n",
        "\n",
        "  #dropping column 'gene' from df1\n",
        "  df1 = df.drop(['gene'], axis = 1)\n",
        "\n",
        "  #appending values of that sorted column in a list \n",
        "  attr1 = []\n",
        "  if col != 'gene':\n",
        "    for i in range(0,len(df1)):\n",
        "      attr1.append(int(df1[[col]].values[i]))\n",
        "  else:\n",
        "    continue\n",
        "\n",
        "  #calculating mean of 2 consecutive values for the whole sorted column and appending all the mean values in a list named 'mean'\n",
        "  mean = []\n",
        "  for i in range(0,len(attr1)-1):\n",
        "    c = (attr1[i] + attr1[i+1])/2\n",
        "    mean.append(c)\n",
        "\n",
        "  #dividing the whole column in 2 parts based on whether mean is greater or less than a certain value\n",
        "  entropy_child = []\n",
        "  for j in range(len(mean)):\n",
        "    n1 = []\n",
        "    n2 = []\n",
        "\n",
        "    for i in range(0,72):\n",
        "      if attr1[i] < mean[j]:\n",
        "        n1.append(attr1[i])\n",
        "      else:\n",
        "        n2.append(attr1[i])\n",
        "    #print(len(n1),len(n2))\n",
        "    \n",
        "    #counting number of zeros and ones of target class in both the groups\n",
        "    count1,count2,count3,count4 = 0,0,0,0\n",
        "    for k in range(0,len(n1)):\n",
        "      if target[k] == 0:\n",
        "        count1+=1\n",
        "      else:\n",
        "        count2+=1\n",
        "    for k in range(0,len(n2)):\n",
        "      if target[k] == 0:\n",
        "        count3+=1\n",
        "      else:\n",
        "        count4+=1\n",
        "    #print(count1,count2,count3,count4) #count1 -> n1,all..., count2 -> n1,aml..., count3 -> n2,all..., count4 -> n2,aml\n",
        "    #calculating entropy and information gain\n",
        "    if count1 != 0 and  count2 != 0 and count3 != 0 and count4 != 0:\n",
        "      a = (count1/(count1+count2))\n",
        "      b = (count2/(count1+count2))\n",
        "      c = (count3/(count3+count4))\n",
        "      d = (count4/(count3+count4))\n",
        "      \n",
        "      entropy = -a*(math.log(a,2)) - b*(math.log(b,2)) - c*(math.log(c,2)) - d*(math.log(d,2))\n",
        "      #entropy_child.append(entropy)\n",
        "      gain = entropy - (a*(-a*(math.log(a,2)) - b*(math.log(b,2))) + b*(-b*(math.log(b,2)) + a*(-c*(math.log(c,2))+ d*(-d*(math.log(d,2))))))\n",
        "      entropy_child.append(gain)\n",
        "    else:\n",
        "      continue\n",
        "  #appending max information gain from all the columns \n",
        "  entropy_child_list.append(max(entropy_child))\n",
        "  \n",
        "  "
      ],
      "execution_count": 3,
      "outputs": []
    },
    {
      "cell_type": "code",
      "metadata": {
        "colab": {
          "base_uri": "https://localhost:8080/"
        },
        "id": "PGYPNBXwgRtk",
        "outputId": "16d725e6-f505-4fc9-d1f9-9dbe898d0ec8"
      },
      "source": [
        "print(len(entropy_child_list))\n",
        "print(entropy_child_list.index(max(entropy_child_list)))"
      ],
      "execution_count": 4,
      "outputs": [
        {
          "output_type": "stream",
          "text": [
            "5147\n",
            "797\n"
          ],
          "name": "stdout"
        }
      ]
    },
    {
      "cell_type": "code",
      "metadata": {
        "colab": {
          "base_uri": "https://localhost:8080/"
        },
        "id": "lfmJ6JBtW4_w",
        "outputId": "bf864bab-4242-4b64-f00a-a25fbea20aec"
      },
      "source": [
        "#appending first 20 columns' index nos. with max information gain \n",
        "entropy_child_list_new =[]\n",
        "for i in entropy_child_list:\n",
        "  entropy_child_list_new.append(i)\n",
        "entropy_child_list_new.sort()\n",
        "final_index = []\n",
        "for i in range(0,21):\n",
        "  prev = entropy_child_list.index(entropy_child_list_new[i])\n",
        "  if prev in final_index:\n",
        "    continue\n",
        "  else:\n",
        "    final_index.append(entropy_child_list.index(entropy_child_list_new[i]))\n",
        "\n",
        "final_index"
      ],
      "execution_count": 5,
      "outputs": [
        {
          "output_type": "execute_result",
          "data": {
            "text/plain": [
              "[2328,\n",
              " 1673,\n",
              " 2968,\n",
              " 4647,\n",
              " 4633,\n",
              " 3151,\n",
              " 200,\n",
              " 4213,\n",
              " 490,\n",
              " 2621,\n",
              " 3604,\n",
              " 1654,\n",
              " 3021,\n",
              " 3048,\n",
              " 2371,\n",
              " 4,\n",
              " 4218,\n",
              " 2898,\n",
              " 1124,\n",
              " 3293]"
            ]
          },
          "metadata": {
            "tags": []
          },
          "execution_count": 5
        }
      ]
    },
    {
      "cell_type": "code",
      "metadata": {
        "colab": {
          "base_uri": "https://localhost:8080/"
        },
        "id": "HCUIMDD7eLdO",
        "outputId": "6f51a8e5-81b7-4f87-f4db-d4f647316590"
      },
      "source": [
        "#with the help of index nos. appending names of those 20 columns \n",
        "col_list = []\n",
        "final_col = []\n",
        "for col in df1.columns:\n",
        "  col_list.append(col)\n",
        "for i in final_index:\n",
        "  final_col.append(col_list[i])\n",
        "\n",
        "print(final_col)"
      ],
      "execution_count": 6,
      "outputs": [
        {
          "output_type": "stream",
          "text": [
            "['U41635_at', 'M84526_at', 'X05908_at', 'M83667_rna1_s_at', 'M75715_s_at', 'X59434_at', 'D21878_at', 'HG2639-HT2735_s_at', 'D83920_at', 'U67156_at', 'Y00282_at', 'M81750_at', 'X14850_at', 'X16706_at', 'U45976_at', 'AFFX-HUMISGF3A/M97935_MA_at', 'HG274-HT274_s_at', 'U94585_at', 'L38616_at', 'X71973_at']\n"
          ],
          "name": "stdout"
        }
      ]
    },
    {
      "cell_type": "code",
      "metadata": {
        "colab": {
          "base_uri": "https://localhost:8080/"
        },
        "id": "KKZOx3-szMY3",
        "outputId": "2c2b80bd-98fc-450f-bdf2-008ca99e1f9e"
      },
      "source": [
        "#y is a target class and x has selected features attributes \n",
        "y = df['gene']\n",
        "x = df[[c for c in final_col if c in df]]\n",
        "\n",
        "feature_names = []\n",
        "for i in final_col:\n",
        "  feature_names.append(i)\n",
        "from sklearn.model_selection import train_test_split#for decision tree object\n",
        "\n",
        "#splitting data into test data and train data where size of test data is 20%\n",
        "X_train, X_test, y_train, y_test = train_test_split(x, y, test_size = 0.2, random_state = 45)\n",
        "print(\"Training split input- \", X_train.shape)\n",
        "print(\"Testing split input- \", X_test.shape)"
      ],
      "execution_count": 7,
      "outputs": [
        {
          "output_type": "stream",
          "text": [
            "Training split input-  (57, 20)\n",
            "Testing split input-  (15, 20)\n"
          ],
          "name": "stdout"
        }
      ]
    },
    {
      "cell_type": "code",
      "metadata": {
        "colab": {
          "base_uri": "https://localhost:8080/"
        },
        "id": "E6gt9c67zOM1",
        "outputId": "162f1a88-5d56-43d1-e335-6d7c61aa4c13"
      },
      "source": [
        "from sklearn.tree import DecisionTreeClassifier#for checking testing results\n",
        "from sklearn.metrics import classification_report, confusion_matrix#for visualizing tree \n",
        "from sklearn.tree import plot_tree\n",
        "\n",
        "#setting decision tree criteria which is in this case is entropy\n",
        "dtree=DecisionTreeClassifier(criterion= 'entropy')\n",
        "dtree.fit(X_train,y_train)\n",
        "print('Decision Tree Classifier Created')\n",
        "dtree"
      ],
      "execution_count": 8,
      "outputs": [
        {
          "output_type": "stream",
          "text": [
            "Decision Tree Classifier Created\n"
          ],
          "name": "stdout"
        },
        {
          "output_type": "execute_result",
          "data": {
            "text/plain": [
              "DecisionTreeClassifier(ccp_alpha=0.0, class_weight=None, criterion='entropy',\n",
              "                       max_depth=None, max_features=None, max_leaf_nodes=None,\n",
              "                       min_impurity_decrease=0.0, min_impurity_split=None,\n",
              "                       min_samples_leaf=1, min_samples_split=2,\n",
              "                       min_weight_fraction_leaf=0.0, presort='deprecated',\n",
              "                       random_state=None, splitter='best')"
            ]
          },
          "metadata": {
            "tags": []
          },
          "execution_count": 8
        }
      ]
    },
    {
      "cell_type": "code",
      "metadata": {
        "colab": {
          "base_uri": "https://localhost:8080/"
        },
        "id": "5pYEsPIkgNUK",
        "outputId": "d634139d-a876-4ce3-8a23-710d23655425"
      },
      "source": [
        "#creating classification report having accuracy and precision\n",
        "y_pred = dtree.predict(X_test)\n",
        "print(\"Classification report - \\n\", classification_report(y_test,y_pred))"
      ],
      "execution_count": 9,
      "outputs": [
        {
          "output_type": "stream",
          "text": [
            "Classification report - \n",
            "               precision    recall  f1-score   support\n",
            "\n",
            "           0       0.92      1.00      0.96        11\n",
            "           1       1.00      0.75      0.86         4\n",
            "\n",
            "    accuracy                           0.93        15\n",
            "   macro avg       0.96      0.88      0.91        15\n",
            "weighted avg       0.94      0.93      0.93        15\n",
            "\n"
          ],
          "name": "stdout"
        }
      ]
    },
    {
      "cell_type": "code",
      "metadata": {
        "colab": {
          "base_uri": "https://localhost:8080/",
          "height": 273
        },
        "id": "DcxiWXmMgR7n",
        "outputId": "1ddeed9f-3ebd-4062-f387-738f5f31bf96"
      },
      "source": [
        "#generating final decision tree\n",
        "import matplotlib.pyplot as plt\n",
        "dec_tree = plot_tree(decision_tree=dtree, feature_names = final_col, \n",
        "                     class_names =['ALL','AML'] , filled = True , precision =4 , rounded = True, fontsize=10)\n",
        "plt.figure(figsize=(50,50), facecolor ='k')\n",
        "\n",
        "plt.show()"
      ],
      "execution_count": 10,
      "outputs": [
        {
          "output_type": "display_data",
          "data": {
            "image/png": "[encoded data removed]",
            "text/plain": [
              "<Figure size 432x288 with 1 Axes>"
            ]
          },
          "metadata": {
            "tags": [],
            "needs_background": "light"
          }
        },
        {
          "output_type": "display_data",
          "data": {
            "text/plain": [
              "<Figure size 3600x3600 with 0 Axes>"
            ]
          },
          "metadata": {
            "tags": []
          }
        }
      ]
    }
  ]
}