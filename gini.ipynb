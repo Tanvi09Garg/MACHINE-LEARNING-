{
  "nbformat": 4,
  "nbformat_minor": 0,
  "metadata": {
    "colab": {
      "name": "gini.ipynb",
      "provenance": [],
      "collapsed_sections": []
    },
    "kernelspec": {
      "display_name": "Python 3",
      "name": "python3"
    }
  },
  "cells": [
    {
      "cell_type": "code",
      "metadata": {
        "colab": {
          "base_uri": "https://localhost:8080/"
        },
        "id": "zOOB0kz55lG-",
        "outputId": "b6007f14-6af8-4a92-cab5-ff713a69f0ae"
      },
      "source": [
        "import pandas as pd\n",
        "import numpy as np\n",
        "\n",
        "#creating a data frame and storing data in it\n",
        "df = pd.read_csv(\"leukemia.tab\", delimiter = '\\t')\n",
        "\n",
        "#dropping rows with NA value\n",
        "df = df.drop([0,1,74])\n",
        "print(df)\n",
        "\n",
        "#replacing target variables' names with '0' and '1'\n",
        "df.replace('ALL', 0, inplace=True)\n",
        "df.replace('AML', 1, inplace=True)\n",
        "print(df)"
      ],
      "execution_count": 5,
      "outputs": [
        {
          "output_type": "stream",
          "text": [
            "   gene AFFX-BioC-5_at hum_alu_at  ... L49218_f_at M71243_f_at Z78285_f_at\n",
            "2   ALL             88      15091  ...          36         191         -37\n",
            "3   ALL            283      11038  ...          11          76         -14\n",
            "4   ALL            309      16692  ...          41         228         -41\n",
            "5   ALL             12      15763  ...         -50         126         -91\n",
            "6   ALL            168      18128  ...          14          56         -25\n",
            "..  ...            ...        ...  ...         ...         ...         ...\n",
            "69  AML            141      22818  ...         -22         260           5\n",
            "70  AML             95      39323  ...           0        1777         -49\n",
            "71  AML            146      15689  ...          -2         210          16\n",
            "72  AML            431      41570  ...           0         284         -73\n",
            "73  AML              9      39538  ...          20         379         -60\n",
            "\n",
            "[72 rows x 5148 columns]\n",
            "    gene AFFX-BioC-5_at hum_alu_at  ... L49218_f_at M71243_f_at Z78285_f_at\n",
            "2      0             88      15091  ...          36         191         -37\n",
            "3      0            283      11038  ...          11          76         -14\n",
            "4      0            309      16692  ...          41         228         -41\n",
            "5      0             12      15763  ...         -50         126         -91\n",
            "6      0            168      18128  ...          14          56         -25\n",
            "..   ...            ...        ...  ...         ...         ...         ...\n",
            "69     1            141      22818  ...         -22         260           5\n",
            "70     1             95      39323  ...           0        1777         -49\n",
            "71     1            146      15689  ...          -2         210          16\n",
            "72     1            431      41570  ...           0         284         -73\n",
            "73     1              9      39538  ...          20         379         -60\n",
            "\n",
            "[72 rows x 5148 columns]\n"
          ],
          "name": "stdout"
        }
      ]
    },
    {
      "cell_type": "code",
      "metadata": {
        "id": "89ElNxnzkPsY"
      },
      "source": [
        "gini_child_list_index = []\n",
        "gini_child_list = []\n",
        "\n",
        "#iterating for all the columns in data frame\n",
        "for col in df.columns:\n",
        "\n",
        "  #sorting values of all the columns respective of the one column and storing that data in new data frame df1\n",
        "  df1 = df.sort_values(by = [col])\n",
        "\n",
        "  #storing values of column 'gene' in a target list in the order of that one sorted column\n",
        "  target = df1[['gene']].values\n",
        "  target = list(target)\n",
        "\n",
        "  #dropping column 'gene' from df1  \n",
        "  df1 = df1.drop(['gene'], axis = 1)\n",
        "  \n",
        "  #appending values of that sorted column in a list\n",
        "  attr1 = []\n",
        "  if col != 'gene' :\n",
        "    for i in range(0,len(df1)):\n",
        "      attr1.append(int(df1[[col]].values[i]))\n",
        "  else: \n",
        "    continue\n",
        "  \n",
        "  #calculating mean of 2 consecutive values for the whole sorted column and appending all the mean values in a list named 'mean'\n",
        "  mean = []\n",
        "  for i in range(0,len(attr1)-1):\n",
        "    c = (attr1[i] + attr1[i+1])/2\n",
        "    mean.append(c)\n",
        "\n",
        "  #dividing the whole column in 2 parts based on whether mean is greater or less than a certain value\n",
        "  gini_child = []\n",
        "  for j in range(len(mean)):\n",
        "    n1 = []\n",
        "    n2 = []\n",
        "  \n",
        "    for i in range(0,72):\n",
        "      if attr1[i] < mean[j]:\n",
        "        n1.append(attr1[i])\n",
        "      else:\n",
        "        n2.append(attr1[i])\n",
        "    #print(len(n1),len(n2))\n",
        "    \n",
        "    #counting number of zeros and ones of target class in both the groups\n",
        "    count1,count2,count3,count4 = 0,0,0,0\n",
        "    for k in range(0,len(n1)):\n",
        "      if target[k] == 0:\n",
        "        count1+=1\n",
        "      else:\n",
        "        count2+=1\n",
        "    for k in range(0,len(n2)):\n",
        "      if target[k] == 0:\n",
        "        count3+=1\n",
        "      else:\n",
        "        count4+=1\n",
        "    #print(count1,count2,count3,count4) #count1 -> n1,all..., count2 -> n1,aml..., count3 -> n2,all..., count4 -> n2,aml\n",
        "    #calculating gini index\n",
        "    if count1 + count2 != 0 and count3 + count4 != 0:\n",
        "      gini1 = 1 - (count1/(count1+count2))**2 - (count2/(count1+count2))**2\n",
        "      gini2 = 1 - (count3/(count3+count4))**2 - (count4/(count3+count4))**2\n",
        "      \n",
        "      gini = (len(n1)/(len(n1)+len(n2)))*gini1 + (len(n2)/(len(n1)+len(n2)))*gini2\n",
        "      gini_child.append(gini)\n",
        "    else:\n",
        "      continue\n",
        "  #appending min gini index from all the columns\n",
        "  gini_child_list.append(min(gini_child))\n",
        "  \n",
        "  "
      ],
      "execution_count": 7,
      "outputs": []
    },
    {
      "cell_type": "code",
      "metadata": {
        "colab": {
          "base_uri": "https://localhost:8080/"
        },
        "id": "FT_iyL_JZrUS",
        "outputId": "69e2219e-81b3-401d-97ab-b1b2c9f7eb6f"
      },
      "source": [
        "print(gini_child_list.index(min(gini_child_list)))"
      ],
      "execution_count": 8,
      "outputs": [
        {
          "output_type": "stream",
          "text": [
            "1673\n"
          ],
          "name": "stdout"
        }
      ]
    },
    {
      "cell_type": "code",
      "metadata": {
        "colab": {
          "base_uri": "https://localhost:8080/"
        },
        "id": "8xtwtX5vi-kb",
        "outputId": "2e161a85-0ad9-4fb9-92b3-7113780ee74c"
      },
      "source": [
        "#appending first 20 columns' index nos. with min gini index values\n",
        "gini_child_list_new =[]\n",
        "for i in gini_child_list:\n",
        "  gini_child_list_new.append(i)\n",
        "gini_child_list_new.sort()\n",
        "final_index = []\n",
        "for i in range(0,26):\n",
        "  prev = gini_child_list.index(gini_child_list_new[i])\n",
        "  if prev in final_index:\n",
        "    continue\n",
        "  else:\n",
        "    final_index.append(gini_child_list.index(gini_child_list_new[i]))\n",
        "\n",
        "final_index"
      ],
      "execution_count": 9,
      "outputs": [
        {
          "output_type": "execute_result",
          "data": {
            "text/plain": [
              "[1673,\n",
              " 4647,\n",
              " 1907,\n",
              " 2328,\n",
              " 795,\n",
              " 2836,\n",
              " 2496,\n",
              " 4530,\n",
              " 996,\n",
              " 1366,\n",
              " 2968,\n",
              " 632,\n",
              " 2544,\n",
              " 1701,\n",
              " 2660,\n",
              " 1555,\n",
              " 662,\n",
              " 1569,\n",
              " 643]"
            ]
          },
          "metadata": {
            "tags": []
          },
          "execution_count": 9
        }
      ]
    },
    {
      "cell_type": "code",
      "metadata": {
        "colab": {
          "base_uri": "https://localhost:8080/"
        },
        "id": "pCP3A4weN50M",
        "outputId": "10740212-006f-4654-cfa8-4e82c0ef6594"
      },
      "source": [
        "#with the help of index nos. appending names of those 20 columns\n",
        "col_list = []\n",
        "final_col = []\n",
        "for col in df1.columns:\n",
        "  col_list.append(col)\n",
        "for i in final_index:\n",
        "  final_col.append(col_list[i])\n",
        "\n",
        "print(final_col)"
      ],
      "execution_count": 10,
      "outputs": [
        {
          "output_type": "stream",
          "text": [
            "['M84526_at', 'M83667_rna1_s_at', 'U03270_at', 'U41635_at', 'J03473_at', 'U88047_at', 'U57094_at', 'M84371_rna1_s_at', 'L19437_at', 'M26683_at', 'X05908_at', 'HG1155-HT4822_at', 'U60319_at', 'M87860_at', 'U70867_at', 'M63138_at', 'HG2566-HT4867_at', 'M63835_at', 'HG1879-HT1919_at']\n"
          ],
          "name": "stdout"
        }
      ]
    },
    {
      "cell_type": "code",
      "metadata": {
        "colab": {
          "base_uri": "https://localhost:8080/"
        },
        "id": "Qealjs1xD3vC",
        "outputId": "a388d77c-fa81-419c-c8d2-dbe6662a2a61"
      },
      "source": [
        "#y is a target class and x has selected features attributes\n",
        "y = df['gene']\n",
        "x = df[[c for c in final_col if c in df]]\n",
        "\n",
        "feature_names = []\n",
        "for i in final_col:\n",
        "  feature_names.append(i)\n",
        "\n",
        "from sklearn.model_selection import train_test_split#for decision tree object\n",
        "X_train, X_test, y_train, y_test = train_test_split(x, y, test_size = 0.2, random_state = 45)\n",
        "print(\"Training split input- \", X_train.shape)\n",
        "print(\"Testing split input- \", X_test.shape)"
      ],
      "execution_count": 18,
      "outputs": [
        {
          "output_type": "stream",
          "text": [
            "Training split input-  (57, 19)\n",
            "Testing split input-  (15, 19)\n"
          ],
          "name": "stdout"
        }
      ]
    },
    {
      "cell_type": "code",
      "metadata": {
        "colab": {
          "base_uri": "https://localhost:8080/"
        },
        "id": "1dks_T9-UgoQ",
        "outputId": "5d59bb55-9ac8-46e2-fa81-c3b8581637b7"
      },
      "source": [
        "from sklearn.tree import DecisionTreeClassifier#for checking testing results\n",
        "from sklearn.metrics import classification_report, confusion_matrix#for visualizing tree \n",
        "from sklearn.tree import plot_tree\n",
        "\n",
        "#setting decision tree criteria which is by default is gini index\n",
        "dtree=DecisionTreeClassifier()\n",
        "dtree.fit(X_train,y_train)\n",
        "print('Decision Tree Classifier Created')\n",
        "dtree"
      ],
      "execution_count": 19,
      "outputs": [
        {
          "output_type": "stream",
          "text": [
            "Decision Tree Classifier Created\n"
          ],
          "name": "stdout"
        },
        {
          "output_type": "execute_result",
          "data": {
            "text/plain": [
              "DecisionTreeClassifier(ccp_alpha=0.0, class_weight=None, criterion='gini',\n",
              "                       max_depth=None, max_features=None, max_leaf_nodes=None,\n",
              "                       min_impurity_decrease=0.0, min_impurity_split=None,\n",
              "                       min_samples_leaf=1, min_samples_split=2,\n",
              "                       min_weight_fraction_leaf=0.0, presort='deprecated',\n",
              "                       random_state=None, splitter='best')"
            ]
          },
          "metadata": {
            "tags": []
          },
          "execution_count": 19
        }
      ]
    },
    {
      "cell_type": "code",
      "metadata": {
        "colab": {
          "base_uri": "https://localhost:8080/"
        },
        "id": "XVx502xfdXiJ",
        "outputId": "8cc98d7b-4889-4578-d622-00949de3681b"
      },
      "source": [
        "#creating classification report having accuracy and precision\n",
        "y_pred = dtree.predict(X_test)\n",
        "print(\"Classification report - \\n\", classification_report(y_test,y_pred))"
      ],
      "execution_count": 20,
      "outputs": [
        {
          "output_type": "stream",
          "text": [
            "Classification report - \n",
            "               precision    recall  f1-score   support\n",
            "\n",
            "           0       1.00      0.82      0.90        11\n",
            "           1       0.67      1.00      0.80         4\n",
            "\n",
            "    accuracy                           0.87        15\n",
            "   macro avg       0.83      0.91      0.85        15\n",
            "weighted avg       0.91      0.87      0.87        15\n",
            "\n"
          ],
          "name": "stdout"
        }
      ]
    },
    {
      "cell_type": "code",
      "metadata": {
        "colab": {
          "base_uri": "https://localhost:8080/",
          "height": 267
        },
        "id": "8U8DiU82XZ73",
        "outputId": "31bb4415-a042-48b2-defb-9072d5cef419"
      },
      "source": [
        "#generating final decision tree\n",
        "import matplotlib.pyplot as plt\n",
        "dec_tree = plot_tree(decision_tree=dtree, feature_names = final_col, \n",
        "                     class_names =['ALL','AML'] , filled = True , precision =4 , rounded = True, fontsize=10)\n",
        "plt.figure(figsize=(50,50), facecolor ='k')\n",
        "\n",
        "plt.show()"
      ],
      "execution_count": 16,
      "outputs": [
        {
          "output_type": "display_data",
          "data": {
            "image/png": "[encoded data removed]",
            "text/plain": [
              "<Figure size 432x288 with 1 Axes>"
            ]
          },
          "metadata": {
            "tags": [],
            "needs_background": "light"
          }
        },
        {
          "output_type": "display_data",
          "data": {
            "text/plain": [
              "<Figure size 3600x3600 with 0 Axes>"
            ]
          },
          "metadata": {
            "tags": []
          }
        }
      ]
    }
  ]
}